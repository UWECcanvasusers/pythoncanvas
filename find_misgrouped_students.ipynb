{
 "cells": [
  {
   "cell_type": "code",
   "execution_count": null,
   "metadata": {},
   "outputs": [],
   "source": [
    "import canvasapi"
   ]
  },
  {
   "cell_type": "code",
   "execution_count": null,
   "metadata": {},
   "outputs": [],
   "source": [
    "API_URL = \"https://uweau.instructure.com/\"\n",
    "from canvas_credentials import API_KEY  # i put my key in another file.  \n",
    "canvas = canvasapi.Canvas(API_URL, API_KEY)"
   ]
  },
  {
   "cell_type": "code",
   "execution_count": null,
   "metadata": {},
   "outputs": [],
   "source": [
    "#get from the URL for your course.  you could also find it programmatically...\n",
    "calc1_fall_2020 = 310046\n",
    "sandbox = 127210000000000267\n",
    "\n",
    "course_id = calc1_fall_2020"
   ]
  },
  {
   "cell_type": "code",
   "execution_count": null,
   "metadata": {},
   "outputs": [],
   "source": [
    "course = canvas.get_course(course_id) \n",
    "E = course.get_enrollments()\n",
    "user_ids_list = [ [e.user_id, e.user[\"name\"], int(e.sis_section_id.split(\"-\")[4])] for e in E if (e.user[\"name\"]!= \"Silviana Amethyst\" and e.user[\"name\"]!= \"Test Student\")] # the 002 or 004 for their section is the [4] entry in this split list"
   ]
  },
  {
   "cell_type": "code",
   "execution_count": null,
   "metadata": {},
   "outputs": [],
   "source": [
    "# turn the list into a dict for looking up students by `user_id`\n",
    "students_by_id = {}\n",
    "for u in user_ids_list:\n",
    "    students_by_id[u[0]] = {'name':u[1],'section':u[2]} \n",
    "\n",
    "# i am sure this cell could be elided by using a dict comprehension instead of a list comprehension in the preceding cell."
   ]
  },
  {
   "cell_type": "code",
   "execution_count": null,
   "metadata": {},
   "outputs": [],
   "source": [
    "students_by_name = {}\n",
    "for u in user_ids_list:\n",
    "    students_by_name[u[1]] = {'id':u[0],'section':u[2]} "
   ]
  },
  {
   "cell_type": "code",
   "execution_count": null,
   "metadata": {},
   "outputs": [],
   "source": [
    "groups = course.get_groups() # this runs lazily, just so you know.  they use pagination.  see their documentation: https://github.com/ucfopen/canvasapi"
   ]
  },
  {
   "cell_type": "code",
   "execution_count": null,
   "metadata": {},
   "outputs": [],
   "source": [
    "# find the mismatched groups\n",
    "found_misgrouped_students = False\n",
    "for g in groups:\n",
    "    if \"group\" in g.name:  #i had several sets of groups, and the ones i needed had \"group\" in their name, and the ones I didn't care about didn't\n",
    "        section_number = int(g.name.split(',')[1].split()[1]) # parse section number from group name.  again, i had put them there\n",
    "        members = g.get_memberships()\n",
    "        for u in members:  # for each student in the group\n",
    "            if students_by_id[u.user_id]['section']!=section_number:\n",
    "                print(g.name)\n",
    "                print(students_by_id[u.user_id])\n",
    "                found_misgrouped_students = True\n",
    "if not found_misgrouped_students:\n",
    "    print('found no misgrouped students, huzzah')\n",
    "# note: this solutions is a bit convoluted, perhaps.\n",
    "# i wanted to call `canvas.get_user(u.user_id)`, and get their enrollments.  \n",
    "# that was the most obvious solution, but it didn't work for me.\n",
    "# reason: i do not have permissions to call that function.\n",
    "# but, you *can* get_current_user(), and get yourself!"
   ]
  },
  {
   "cell_type": "code",
   "execution_count": null,
   "metadata": {},
   "outputs": [],
   "source": [
    "# find the sections of ungrouped students.  \n",
    "# this will always include me, and the test student.\n",
    "enrolled_students = set([v['id'] for e,v in students_by_name.items()])\n",
    "grouped_students = []\n",
    "for g in groups:\n",
    "    for u in g.get_memberships():\n",
    "        grouped_students.append(u.user_id)\n",
    "grouped_students = set(grouped_students)\n",
    "\n",
    "ungrouped_students = enrolled_students - grouped_students\n",
    "for s in ungrouped_students:\n",
    "    print(students_by_id[s])\n",
    "if len(ungrouped_students)==0:\n",
    "    print(\"no ungrouped students\")"
   ]
  },
  {
   "cell_type": "code",
   "execution_count": null,
   "metadata": {},
   "outputs": [],
   "source": [
    "# look up a student by name to see which groups they're in\n",
    "# it appears to use First Last as the name format.  \n",
    "student_name = \"First Last\"\n",
    "student_id = students_by_name[student_name]['id']\n",
    "for g in groups:\n",
    "    members = g.get_memberships()\n",
    "    for m in members:\n",
    "        if m.user_id == student_id:\n",
    "            print('{} is in group {}'.format(student_name,g.name))"
   ]
  },
  {
   "cell_type": "code",
   "execution_count": null,
   "metadata": {},
   "outputs": [],
   "source": []
  }
 ],
 "metadata": {
  "kernelspec": {
   "display_name": "Python 3",
   "language": "python",
   "name": "python3"
  },
  "language_info": {
   "codemirror_mode": {
    "name": "ipython",
    "version": 3
   },
   "file_extension": ".py",
   "mimetype": "text/x-python",
   "name": "python",
   "nbconvert_exporter": "python",
   "pygments_lexer": "ipython3",
   "version": "3.7.4"
  }
 },
 "nbformat": 4,
 "nbformat_minor": 4
}
